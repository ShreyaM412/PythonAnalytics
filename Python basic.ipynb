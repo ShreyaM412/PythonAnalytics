{
 "cells": [
  {
   "cell_type": "code",
   "execution_count": 1,
   "id": "edf2d6ea",
   "metadata": {},
   "outputs": [
    {
     "name": "stdout",
     "output_type": "stream",
     "text": [
      "hello world\n"
     ]
    }
   ],
   "source": [
    "print(\"hello world\")"
   ]
  },
  {
   "cell_type": "code",
   "execution_count": 2,
   "id": "0562fef7",
   "metadata": {},
   "outputs": [
    {
     "name": "stdout",
     "output_type": "stream",
     "text": [
      "I love Business Analytics\n"
     ]
    }
   ],
   "source": [
    "print(\"I love Business Analytics\")"
   ]
  },
  {
   "cell_type": "code",
   "execution_count": 3,
   "id": "386cf3e9",
   "metadata": {},
   "outputs": [
    {
     "name": "stdout",
     "output_type": "stream",
     "text": [
      "I love Business Analytics\n"
     ]
    }
   ],
   "source": [
    "print(\"I love Business Analytics\")"
   ]
  },
  {
   "cell_type": "code",
   "execution_count": null,
   "id": "0d35990d",
   "metadata": {},
   "outputs": [],
   "source": []
  },
  {
   "cell_type": "code",
   "execution_count": 5,
   "id": "5de091f8",
   "metadata": {},
   "outputs": [
    {
     "name": "stdout",
     "output_type": "stream",
     "text": [
      "I love Business Analytics\n"
     ]
    }
   ],
   "source": [
    "print(\"I love Business Analytics\") "
   ]
  },
  {
   "cell_type": "markdown",
   "id": "32f5cedf",
   "metadata": {},
   "source": [
    "#shreya"
   ]
  },
  {
   "cell_type": "markdown",
   "id": "21cd71fc",
   "metadata": {},
   "source": [
    "###shreya"
   ]
  },
  {
   "cell_type": "markdown",
   "id": "7fc8e1df",
   "metadata": {},
   "source": [
    "### shreya"
   ]
  },
  {
   "cell_type": "markdown",
   "id": "a3d9f488",
   "metadata": {},
   "source": [
    "###Rahul"
   ]
  },
  {
   "cell_type": "markdown",
   "id": "e4bb251e",
   "metadata": {},
   "source": [
    "#### Rahul"
   ]
  },
  {
   "cell_type": "markdown",
   "id": "4925cddf",
   "metadata": {},
   "source": [
    "####Rahul"
   ]
  },
  {
   "cell_type": "markdown",
   "id": "6d4f15c2",
   "metadata": {},
   "source": [
    "#####Rahul"
   ]
  },
  {
   "cell_type": "code",
   "execution_count": 6,
   "id": "62ad3d69",
   "metadata": {},
   "outputs": [
    {
     "data": {
      "text/plain": [
       "11"
      ]
     },
     "execution_count": 6,
     "metadata": {},
     "output_type": "execute_result"
    }
   ],
   "source": [
    "a=5\n",
    "b=6\n",
    "c=a+b\n",
    "c"
   ]
  },
  {
   "cell_type": "code",
   "execution_count": 7,
   "id": "311e9f3e",
   "metadata": {},
   "outputs": [
    {
     "data": {
      "text/plain": [
       "(11, -1)"
      ]
     },
     "execution_count": 7,
     "metadata": {},
     "output_type": "execute_result"
    }
   ],
   "source": [
    "a=5\n",
    "b=6\n",
    "c=a+b\n",
    "d=a-b\n",
    "c,d"
   ]
  },
  {
   "cell_type": "code",
   "execution_count": 8,
   "id": "fbccbb89",
   "metadata": {},
   "outputs": [
    {
     "data": {
      "text/plain": [
       "(2, 'HI')"
      ]
     },
     "execution_count": 8,
     "metadata": {},
     "output_type": "execute_result"
    }
   ],
   "source": [
    "a,b,c=1,2,\"HI\"\n",
    "b,c"
   ]
  },
  {
   "cell_type": "code",
   "execution_count": 9,
   "id": "4509db8d",
   "metadata": {},
   "outputs": [
    {
     "data": {
      "text/plain": [
       "(str, float, int)"
      ]
     },
     "execution_count": 9,
     "metadata": {},
     "output_type": "execute_result"
    }
   ],
   "source": [
    "c='shreya'\n",
    "d=0.5\n",
    "e=1\n",
    "type(c),type(d),type(e)\n"
   ]
  },
  {
   "cell_type": "code",
   "execution_count": null,
   "id": "ae2bf8ea",
   "metadata": {},
   "outputs": [],
   "source": []
  }
 ],
 "metadata": {
  "kernelspec": {
   "display_name": "Python 3",
   "language": "python",
   "name": "python3"
  },
  "language_info": {
   "codemirror_mode": {
    "name": "ipython",
    "version": 3
   },
   "file_extension": ".py",
   "mimetype": "text/x-python",
   "name": "python",
   "nbconvert_exporter": "python",
   "pygments_lexer": "ipython3",
   "version": "3.8.8"
  }
 },
 "nbformat": 4,
 "nbformat_minor": 5
}
